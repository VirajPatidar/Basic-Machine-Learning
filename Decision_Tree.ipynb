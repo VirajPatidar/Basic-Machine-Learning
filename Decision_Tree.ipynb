{
  "nbformat": 4,
  "nbformat_minor": 0,
  "metadata": {
    "colab": {
      "name": "Decision Tree.ipynb",
      "provenance": [],
      "collapsed_sections": []
    },
    "kernelspec": {
      "name": "python3",
      "display_name": "Python 3"
    }
  },
  "cells": [
    {
      "cell_type": "code",
      "metadata": {
        "id": "JD6YLcs6vs6f",
        "colab_type": "code",
        "colab": {
          "base_uri": "https://localhost:8080/",
          "height": 425
        },
        "outputId": "993bb4cc-9a69-4146-ce9c-5fbaf8d76825"
      },
      "source": [
        "pip install mglearn"
      ],
      "execution_count": 2,
      "outputs": [
        {
          "output_type": "stream",
          "text": [
            "Collecting mglearn\n",
            "\u001b[?25l  Downloading https://files.pythonhosted.org/packages/65/38/8aced26fce0b2ae82c3c87cd3b6105f38ca6d9d51704ecc44aa54473e6b9/mglearn-0.1.9.tar.gz (540kB)\n",
            "\r\u001b[K     |▋                               | 10kB 20.9MB/s eta 0:00:01\r\u001b[K     |█▏                              | 20kB 6.5MB/s eta 0:00:01\r\u001b[K     |█▉                              | 30kB 7.4MB/s eta 0:00:01\r\u001b[K     |██▍                             | 40kB 8.4MB/s eta 0:00:01\r\u001b[K     |███                             | 51kB 6.9MB/s eta 0:00:01\r\u001b[K     |███▋                            | 61kB 7.3MB/s eta 0:00:01\r\u001b[K     |████▎                           | 71kB 7.9MB/s eta 0:00:01\r\u001b[K     |████▉                           | 81kB 8.5MB/s eta 0:00:01\r\u001b[K     |█████▌                          | 92kB 7.8MB/s eta 0:00:01\r\u001b[K     |██████                          | 102kB 7.9MB/s eta 0:00:01\r\u001b[K     |██████▊                         | 112kB 7.9MB/s eta 0:00:01\r\u001b[K     |███████▎                        | 122kB 7.9MB/s eta 0:00:01\r\u001b[K     |███████▉                        | 133kB 7.9MB/s eta 0:00:01\r\u001b[K     |████████▌                       | 143kB 7.9MB/s eta 0:00:01\r\u001b[K     |█████████                       | 153kB 7.9MB/s eta 0:00:01\r\u001b[K     |█████████▊                      | 163kB 7.9MB/s eta 0:00:01\r\u001b[K     |██████████▎                     | 174kB 7.9MB/s eta 0:00:01\r\u001b[K     |███████████                     | 184kB 7.9MB/s eta 0:00:01\r\u001b[K     |███████████▌                    | 194kB 7.9MB/s eta 0:00:01\r\u001b[K     |████████████▏                   | 204kB 7.9MB/s eta 0:00:01\r\u001b[K     |████████████▊                   | 215kB 7.9MB/s eta 0:00:01\r\u001b[K     |█████████████▍                  | 225kB 7.9MB/s eta 0:00:01\r\u001b[K     |██████████████                  | 235kB 7.9MB/s eta 0:00:01\r\u001b[K     |██████████████▋                 | 245kB 7.9MB/s eta 0:00:01\r\u001b[K     |███████████████▏                | 256kB 7.9MB/s eta 0:00:01\r\u001b[K     |███████████████▊                | 266kB 7.9MB/s eta 0:00:01\r\u001b[K     |████████████████▍               | 276kB 7.9MB/s eta 0:00:01\r\u001b[K     |█████████████████               | 286kB 7.9MB/s eta 0:00:01\r\u001b[K     |█████████████████▋              | 296kB 7.9MB/s eta 0:00:01\r\u001b[K     |██████████████████▏             | 307kB 7.9MB/s eta 0:00:01\r\u001b[K     |██████████████████▉             | 317kB 7.9MB/s eta 0:00:01\r\u001b[K     |███████████████████▍            | 327kB 7.9MB/s eta 0:00:01\r\u001b[K     |████████████████████            | 337kB 7.9MB/s eta 0:00:01\r\u001b[K     |████████████████████▋           | 348kB 7.9MB/s eta 0:00:01\r\u001b[K     |█████████████████████▎          | 358kB 7.9MB/s eta 0:00:01\r\u001b[K     |█████████████████████▉          | 368kB 7.9MB/s eta 0:00:01\r\u001b[K     |██████████████████████▌         | 378kB 7.9MB/s eta 0:00:01\r\u001b[K     |███████████████████████         | 389kB 7.9MB/s eta 0:00:01\r\u001b[K     |███████████████████████▋        | 399kB 7.9MB/s eta 0:00:01\r\u001b[K     |████████████████████████▎       | 409kB 7.9MB/s eta 0:00:01\r\u001b[K     |████████████████████████▉       | 419kB 7.9MB/s eta 0:00:01\r\u001b[K     |█████████████████████████▌      | 430kB 7.9MB/s eta 0:00:01\r\u001b[K     |██████████████████████████      | 440kB 7.9MB/s eta 0:00:01\r\u001b[K     |██████████████████████████▊     | 450kB 7.9MB/s eta 0:00:01\r\u001b[K     |███████████████████████████▎    | 460kB 7.9MB/s eta 0:00:01\r\u001b[K     |████████████████████████████    | 471kB 7.9MB/s eta 0:00:01\r\u001b[K     |████████████████████████████▌   | 481kB 7.9MB/s eta 0:00:01\r\u001b[K     |█████████████████████████████▏  | 491kB 7.9MB/s eta 0:00:01\r\u001b[K     |█████████████████████████████▊  | 501kB 7.9MB/s eta 0:00:01\r\u001b[K     |██████████████████████████████▍ | 512kB 7.9MB/s eta 0:00:01\r\u001b[K     |███████████████████████████████ | 522kB 7.9MB/s eta 0:00:01\r\u001b[K     |███████████████████████████████▌| 532kB 7.9MB/s eta 0:00:01\r\u001b[K     |████████████████████████████████| 542kB 7.9MB/s \n",
            "\u001b[?25hRequirement already satisfied: numpy in /usr/local/lib/python3.6/dist-packages (from mglearn) (1.18.5)\n",
            "Requirement already satisfied: matplotlib in /usr/local/lib/python3.6/dist-packages (from mglearn) (3.2.2)\n",
            "Requirement already satisfied: scikit-learn in /usr/local/lib/python3.6/dist-packages (from mglearn) (0.22.2.post1)\n",
            "Requirement already satisfied: pandas in /usr/local/lib/python3.6/dist-packages (from mglearn) (1.0.5)\n",
            "Requirement already satisfied: pillow in /usr/local/lib/python3.6/dist-packages (from mglearn) (7.0.0)\n",
            "Requirement already satisfied: cycler in /usr/local/lib/python3.6/dist-packages (from mglearn) (0.10.0)\n",
            "Requirement already satisfied: imageio in /usr/local/lib/python3.6/dist-packages (from mglearn) (2.4.1)\n",
            "Requirement already satisfied: joblib in /usr/local/lib/python3.6/dist-packages (from mglearn) (0.16.0)\n",
            "Requirement already satisfied: pyparsing!=2.0.4,!=2.1.2,!=2.1.6,>=2.0.1 in /usr/local/lib/python3.6/dist-packages (from matplotlib->mglearn) (2.4.7)\n",
            "Requirement already satisfied: kiwisolver>=1.0.1 in /usr/local/lib/python3.6/dist-packages (from matplotlib->mglearn) (1.2.0)\n",
            "Requirement already satisfied: python-dateutil>=2.1 in /usr/local/lib/python3.6/dist-packages (from matplotlib->mglearn) (2.8.1)\n",
            "Requirement already satisfied: scipy>=0.17.0 in /usr/local/lib/python3.6/dist-packages (from scikit-learn->mglearn) (1.4.1)\n",
            "Requirement already satisfied: pytz>=2017.2 in /usr/local/lib/python3.6/dist-packages (from pandas->mglearn) (2018.9)\n",
            "Requirement already satisfied: six in /usr/local/lib/python3.6/dist-packages (from cycler->mglearn) (1.15.0)\n",
            "Building wheels for collected packages: mglearn\n",
            "  Building wheel for mglearn (setup.py) ... \u001b[?25l\u001b[?25hdone\n",
            "  Created wheel for mglearn: filename=mglearn-0.1.9-py2.py3-none-any.whl size=582639 sha256=5592a5f1a85b258e1b7d49b7fa231a4946a58838cc1c814ada638fb5749bcca1\n",
            "  Stored in directory: /root/.cache/pip/wheels/eb/a6/ea/a6a3716233fa62fc561259b5cb1e28f79e9ff3592c0adac5f0\n",
            "Successfully built mglearn\n",
            "Installing collected packages: mglearn\n",
            "Successfully installed mglearn-0.1.9\n"
          ],
          "name": "stdout"
        }
      ]
    },
    {
      "cell_type": "code",
      "metadata": {
        "id": "E5pHWPkWjM0P",
        "colab_type": "code",
        "colab": {}
      },
      "source": [
        "import mglearn\n",
        "import pandas as pd\n",
        "import matplotlib.pyplot as plt\n",
        "import numpy as np\n",
        "from sklearn.linear_model import LogisticRegression\n",
        "from sklearn.model_selection import train_test_split\n",
        "from sklearn.preprocessing import LabelEncoder\n",
        "import math\n",
        "%matplotlib inline\n",
        "from sklearn.tree import DecisionTreeClassifier\n",
        "from sklearn import tree"
      ],
      "execution_count": 7,
      "outputs": []
    },
    {
      "cell_type": "code",
      "metadata": {
        "id": "QPemPfd2mGLk",
        "colab_type": "code",
        "colab": {
          "base_uri": "https://localhost:8080/",
          "height": 204
        },
        "outputId": "ae3d113a-455a-4e80-ef8d-f520a77d8f95"
      },
      "source": [
        "file = 'https://raw.githubusercontent.com/jigar-pandit/ml1/master/Tree.csv'\n",
        "df = pd.read_csv(file)\n",
        "df.head()"
      ],
      "execution_count": 24,
      "outputs": [
        {
          "output_type": "execute_result",
          "data": {
            "text/html": [
              "<div>\n",
              "<style scoped>\n",
              "    .dataframe tbody tr th:only-of-type {\n",
              "        vertical-align: middle;\n",
              "    }\n",
              "\n",
              "    .dataframe tbody tr th {\n",
              "        vertical-align: top;\n",
              "    }\n",
              "\n",
              "    .dataframe thead th {\n",
              "        text-align: right;\n",
              "    }\n",
              "</style>\n",
              "<table border=\"1\" class=\"dataframe\">\n",
              "  <thead>\n",
              "    <tr style=\"text-align: right;\">\n",
              "      <th></th>\n",
              "      <th>Day</th>\n",
              "      <th>Outlook</th>\n",
              "      <th>Humidity</th>\n",
              "      <th>Wind</th>\n",
              "      <th>Temperature</th>\n",
              "      <th>Play</th>\n",
              "    </tr>\n",
              "  </thead>\n",
              "  <tbody>\n",
              "    <tr>\n",
              "      <th>0</th>\n",
              "      <td>D1</td>\n",
              "      <td>Sunny</td>\n",
              "      <td>High</td>\n",
              "      <td>Weak</td>\n",
              "      <td>Hot</td>\n",
              "      <td>No</td>\n",
              "    </tr>\n",
              "    <tr>\n",
              "      <th>1</th>\n",
              "      <td>D2</td>\n",
              "      <td>Sunny</td>\n",
              "      <td>High</td>\n",
              "      <td>Strong</td>\n",
              "      <td>Hot</td>\n",
              "      <td>No</td>\n",
              "    </tr>\n",
              "    <tr>\n",
              "      <th>2</th>\n",
              "      <td>D3</td>\n",
              "      <td>Overcast</td>\n",
              "      <td>High</td>\n",
              "      <td>Weak</td>\n",
              "      <td>Hot</td>\n",
              "      <td>Yes</td>\n",
              "    </tr>\n",
              "    <tr>\n",
              "      <th>3</th>\n",
              "      <td>D4</td>\n",
              "      <td>Rain</td>\n",
              "      <td>High</td>\n",
              "      <td>Weak</td>\n",
              "      <td>Mild</td>\n",
              "      <td>Yes</td>\n",
              "    </tr>\n",
              "    <tr>\n",
              "      <th>4</th>\n",
              "      <td>D5</td>\n",
              "      <td>Rain</td>\n",
              "      <td>Normal</td>\n",
              "      <td>Weak</td>\n",
              "      <td>Cool</td>\n",
              "      <td>Yes</td>\n",
              "    </tr>\n",
              "  </tbody>\n",
              "</table>\n",
              "</div>"
            ],
            "text/plain": [
              "  Day   Outlook Humidity    Wind Temperature Play\n",
              "0  D1     Sunny     High    Weak         Hot   No\n",
              "1  D2     Sunny     High  Strong         Hot   No\n",
              "2  D3  Overcast     High    Weak         Hot  Yes\n",
              "3  D4      Rain     High    Weak        Mild  Yes\n",
              "4  D5      Rain   Normal    Weak        Cool  Yes"
            ]
          },
          "metadata": {
            "tags": []
          },
          "execution_count": 24
        }
      ]
    },
    {
      "cell_type": "code",
      "metadata": {
        "id": "iEhVzaDGwTHR",
        "colab_type": "code",
        "colab": {
          "base_uri": "https://localhost:8080/",
          "height": 204
        },
        "outputId": "e445029e-a3f8-4ebc-dc94-8261c6ae6f4c"
      },
      "source": [
        "df = df.drop('Day',axis=1)\n",
        "\n",
        "#Encoding categorical data values\n",
        "df['Outlook'] = LabelEncoder().fit_transform(df['Outlook'])\n",
        "df['Humidity'] = LabelEncoder().fit_transform(df['Humidity'])\n",
        "df['Wind'] = LabelEncoder().fit_transform(df['Wind'])\n",
        "df['Temperature'] = LabelEncoder().fit_transform(df['Temperature'])\n",
        "df['Play'] = LabelEncoder().fit_transform(df['Play'])\n",
        "\n",
        "df.head()"
      ],
      "execution_count": 25,
      "outputs": [
        {
          "output_type": "execute_result",
          "data": {
            "text/html": [
              "<div>\n",
              "<style scoped>\n",
              "    .dataframe tbody tr th:only-of-type {\n",
              "        vertical-align: middle;\n",
              "    }\n",
              "\n",
              "    .dataframe tbody tr th {\n",
              "        vertical-align: top;\n",
              "    }\n",
              "\n",
              "    .dataframe thead th {\n",
              "        text-align: right;\n",
              "    }\n",
              "</style>\n",
              "<table border=\"1\" class=\"dataframe\">\n",
              "  <thead>\n",
              "    <tr style=\"text-align: right;\">\n",
              "      <th></th>\n",
              "      <th>Outlook</th>\n",
              "      <th>Humidity</th>\n",
              "      <th>Wind</th>\n",
              "      <th>Temperature</th>\n",
              "      <th>Play</th>\n",
              "    </tr>\n",
              "  </thead>\n",
              "  <tbody>\n",
              "    <tr>\n",
              "      <th>0</th>\n",
              "      <td>2</td>\n",
              "      <td>0</td>\n",
              "      <td>1</td>\n",
              "      <td>1</td>\n",
              "      <td>0</td>\n",
              "    </tr>\n",
              "    <tr>\n",
              "      <th>1</th>\n",
              "      <td>2</td>\n",
              "      <td>0</td>\n",
              "      <td>0</td>\n",
              "      <td>1</td>\n",
              "      <td>0</td>\n",
              "    </tr>\n",
              "    <tr>\n",
              "      <th>2</th>\n",
              "      <td>0</td>\n",
              "      <td>0</td>\n",
              "      <td>1</td>\n",
              "      <td>1</td>\n",
              "      <td>1</td>\n",
              "    </tr>\n",
              "    <tr>\n",
              "      <th>3</th>\n",
              "      <td>1</td>\n",
              "      <td>0</td>\n",
              "      <td>1</td>\n",
              "      <td>2</td>\n",
              "      <td>1</td>\n",
              "    </tr>\n",
              "    <tr>\n",
              "      <th>4</th>\n",
              "      <td>1</td>\n",
              "      <td>1</td>\n",
              "      <td>1</td>\n",
              "      <td>0</td>\n",
              "      <td>1</td>\n",
              "    </tr>\n",
              "  </tbody>\n",
              "</table>\n",
              "</div>"
            ],
            "text/plain": [
              "   Outlook  Humidity  Wind  Temperature  Play\n",
              "0        2         0     1            1     0\n",
              "1        2         0     0            1     0\n",
              "2        0         0     1            1     1\n",
              "3        1         0     1            2     1\n",
              "4        1         1     1            0     1"
            ]
          },
          "metadata": {
            "tags": []
          },
          "execution_count": 25
        }
      ]
    },
    {
      "cell_type": "code",
      "metadata": {
        "id": "8TbXtyBhyQN0",
        "colab_type": "code",
        "colab": {
          "base_uri": "https://localhost:8080/",
          "height": 119
        },
        "outputId": "f6e24a7e-9ee1-4d5c-c670-11443db4095b"
      },
      "source": [
        "X = df.drop('Play',axis=1)\n",
        "y = df['Play']\n",
        "play_tree = DecisionTreeClassifier(random_state=0,criterion='entropy')\n",
        "play_tree.fit(X.astype(int), y.astype(int))"
      ],
      "execution_count": 26,
      "outputs": [
        {
          "output_type": "execute_result",
          "data": {
            "text/plain": [
              "DecisionTreeClassifier(ccp_alpha=0.0, class_weight=None, criterion='entropy',\n",
              "                       max_depth=None, max_features=None, max_leaf_nodes=None,\n",
              "                       min_impurity_decrease=0.0, min_impurity_split=None,\n",
              "                       min_samples_leaf=1, min_samples_split=2,\n",
              "                       min_weight_fraction_leaf=0.0, presort='deprecated',\n",
              "                       random_state=0, splitter='best')"
            ]
          },
          "metadata": {
            "tags": []
          },
          "execution_count": 26
        }
      ]
    },
    {
      "cell_type": "code",
      "metadata": {
        "id": "QugutMPUwYDA",
        "colab_type": "code",
        "colab": {}
      },
      "source": [
        "from sklearn.tree import export_graphviz\n",
        "dot = export_graphviz(play_tree, out_file=None, \n",
        "                           feature_names=X.columns,  \n",
        "                           class_names=[\"no\", \"yes\"],  \n",
        "                           filled=True, rounded=True,  \n",
        "                           special_characters=True) "
      ],
      "execution_count": 27,
      "outputs": []
    },
    {
      "cell_type": "code",
      "metadata": {
        "id": "kd-hfpgy4Yg-",
        "colab_type": "code",
        "colab": {
          "base_uri": "https://localhost:8080/",
          "height": 757
        },
        "outputId": "ca6f7949-66e1-4ed1-cb52-b86d6dff75f9"
      },
      "source": [
        "import graphviz\n",
        "graph = graphviz.Source(dot) \n",
        "graph"
      ],
      "execution_count": 28,
      "outputs": [
        {
          "output_type": "execute_result",
          "data": {
            "text/plain": [
              "<graphviz.files.Source at 0x7fc9ba306be0>"
            ],
            "image/svg+xml": "<?xml version=\"1.0\" encoding=\"UTF-8\" standalone=\"no\"?>\n<!DOCTYPE svg PUBLIC \"-//W3C//DTD SVG 1.1//EN\"\n \"http://www.w3.org/Graphics/SVG/1.1/DTD/svg11.dtd\">\n<!-- Generated by graphviz version 2.40.1 (20161225.0304)\n -->\n<!-- Title: Tree Pages: 1 -->\n<svg width=\"551pt\" height=\"552pt\"\n viewBox=\"0.00 0.00 551.00 552.00\" xmlns=\"http://www.w3.org/2000/svg\" xmlns:xlink=\"http://www.w3.org/1999/xlink\">\n<g id=\"graph0\" class=\"graph\" transform=\"scale(1 1) rotate(0) translate(4 548)\">\n<title>Tree</title>\n<polygon fill=\"#ffffff\" stroke=\"transparent\" points=\"-4,4 -4,-548 547,-548 547,4 -4,4\"/>\n<!-- 0 -->\n<g id=\"node1\" class=\"node\">\n<title>0</title>\n<path fill=\"#a7d3f3\" stroke=\"#000000\" d=\"M269.5,-544C269.5,-544 183.5,-544 183.5,-544 177.5,-544 171.5,-538 171.5,-532 171.5,-532 171.5,-473 171.5,-473 171.5,-467 177.5,-461 183.5,-461 183.5,-461 269.5,-461 269.5,-461 275.5,-461 281.5,-467 281.5,-473 281.5,-473 281.5,-532 281.5,-532 281.5,-538 275.5,-544 269.5,-544\"/>\n<text text-anchor=\"start\" x=\"183.5\" y=\"-528.8\" font-family=\"Helvetica,sans-Serif\" font-size=\"14.00\" fill=\"#000000\">Outlook ≤ 0.5</text>\n<text text-anchor=\"start\" x=\"179.5\" y=\"-513.8\" font-family=\"Helvetica,sans-Serif\" font-size=\"14.00\" fill=\"#000000\">entropy = 0.94</text>\n<text text-anchor=\"start\" x=\"182.5\" y=\"-498.8\" font-family=\"Helvetica,sans-Serif\" font-size=\"14.00\" fill=\"#000000\">samples = 14</text>\n<text text-anchor=\"start\" x=\"185\" y=\"-483.8\" font-family=\"Helvetica,sans-Serif\" font-size=\"14.00\" fill=\"#000000\">value = [5, 9]</text>\n<text text-anchor=\"start\" x=\"190\" y=\"-468.8\" font-family=\"Helvetica,sans-Serif\" font-size=\"14.00\" fill=\"#000000\">class = yes</text>\n</g>\n<!-- 1 -->\n<g id=\"node2\" class=\"node\">\n<title>1</title>\n<path fill=\"#399de5\" stroke=\"#000000\" d=\"M204,-417.5C204,-417.5 127,-417.5 127,-417.5 121,-417.5 115,-411.5 115,-405.5 115,-405.5 115,-361.5 115,-361.5 115,-355.5 121,-349.5 127,-349.5 127,-349.5 204,-349.5 204,-349.5 210,-349.5 216,-355.5 216,-361.5 216,-361.5 216,-405.5 216,-405.5 216,-411.5 210,-417.5 204,-417.5\"/>\n<text text-anchor=\"start\" x=\"123\" y=\"-402.3\" font-family=\"Helvetica,sans-Serif\" font-size=\"14.00\" fill=\"#000000\">entropy = 0.0</text>\n<text text-anchor=\"start\" x=\"126\" y=\"-387.3\" font-family=\"Helvetica,sans-Serif\" font-size=\"14.00\" fill=\"#000000\">samples = 4</text>\n<text text-anchor=\"start\" x=\"124\" y=\"-372.3\" font-family=\"Helvetica,sans-Serif\" font-size=\"14.00\" fill=\"#000000\">value = [0, 4]</text>\n<text text-anchor=\"start\" x=\"129\" y=\"-357.3\" font-family=\"Helvetica,sans-Serif\" font-size=\"14.00\" fill=\"#000000\">class = yes</text>\n</g>\n<!-- 0&#45;&gt;1 -->\n<g id=\"edge1\" class=\"edge\">\n<title>0&#45;&gt;1</title>\n<path fill=\"none\" stroke=\"#000000\" d=\"M205.1652,-460.8796C199.5285,-449.8835 193.4315,-437.9893 187.7478,-426.9015\"/>\n<polygon fill=\"#000000\" stroke=\"#000000\" points=\"190.7663,-425.1173 183.09,-417.8149 184.5371,-428.3105 190.7663,-425.1173\"/>\n<text text-anchor=\"middle\" x=\"175.4227\" y=\"-437.9101\" font-family=\"Helvetica,sans-Serif\" font-size=\"14.00\" fill=\"#000000\">True</text>\n</g>\n<!-- 2 -->\n<g id=\"node3\" class=\"node\">\n<title>2</title>\n<path fill=\"#ffffff\" stroke=\"#000000\" d=\"M330.5,-425C330.5,-425 246.5,-425 246.5,-425 240.5,-425 234.5,-419 234.5,-413 234.5,-413 234.5,-354 234.5,-354 234.5,-348 240.5,-342 246.5,-342 246.5,-342 330.5,-342 330.5,-342 336.5,-342 342.5,-348 342.5,-354 342.5,-354 342.5,-413 342.5,-413 342.5,-419 336.5,-425 330.5,-425\"/>\n<text text-anchor=\"start\" x=\"242.5\" y=\"-409.8\" font-family=\"Helvetica,sans-Serif\" font-size=\"14.00\" fill=\"#000000\">Humidity ≤ 0.5</text>\n<text text-anchor=\"start\" x=\"246\" y=\"-394.8\" font-family=\"Helvetica,sans-Serif\" font-size=\"14.00\" fill=\"#000000\">entropy = 1.0</text>\n<text text-anchor=\"start\" x=\"244.5\" y=\"-379.8\" font-family=\"Helvetica,sans-Serif\" font-size=\"14.00\" fill=\"#000000\">samples = 10</text>\n<text text-anchor=\"start\" x=\"247\" y=\"-364.8\" font-family=\"Helvetica,sans-Serif\" font-size=\"14.00\" fill=\"#000000\">value = [5, 5]</text>\n<text text-anchor=\"start\" x=\"255\" y=\"-349.8\" font-family=\"Helvetica,sans-Serif\" font-size=\"14.00\" fill=\"#000000\">class = no</text>\n</g>\n<!-- 0&#45;&gt;2 -->\n<g id=\"edge2\" class=\"edge\">\n<title>0&#45;&gt;2</title>\n<path fill=\"none\" stroke=\"#000000\" d=\"M248.1846,-460.8796C252.6423,-452.3236 257.3834,-443.2238 261.9894,-434.3833\"/>\n<polygon fill=\"#000000\" stroke=\"#000000\" points=\"265.2062,-435.7838 266.7229,-425.2981 258.9983,-432.5494 265.2062,-435.7838\"/>\n<text text-anchor=\"middle\" x=\"274.2322\" y=\"-445.4436\" font-family=\"Helvetica,sans-Serif\" font-size=\"14.00\" fill=\"#000000\">False</text>\n</g>\n<!-- 3 -->\n<g id=\"node4\" class=\"node\">\n<title>3</title>\n<path fill=\"#eca06a\" stroke=\"#000000\" d=\"M267.5,-306C267.5,-306 173.5,-306 173.5,-306 167.5,-306 161.5,-300 161.5,-294 161.5,-294 161.5,-235 161.5,-235 161.5,-229 167.5,-223 173.5,-223 173.5,-223 267.5,-223 267.5,-223 273.5,-223 279.5,-229 279.5,-235 279.5,-235 279.5,-294 279.5,-294 279.5,-300 273.5,-306 267.5,-306\"/>\n<text text-anchor=\"start\" x=\"177.5\" y=\"-290.8\" font-family=\"Helvetica,sans-Serif\" font-size=\"14.00\" fill=\"#000000\">Outlook ≤ 1.5</text>\n<text text-anchor=\"start\" x=\"169.5\" y=\"-275.8\" font-family=\"Helvetica,sans-Serif\" font-size=\"14.00\" fill=\"#000000\">entropy = 0.722</text>\n<text text-anchor=\"start\" x=\"181\" y=\"-260.8\" font-family=\"Helvetica,sans-Serif\" font-size=\"14.00\" fill=\"#000000\">samples = 5</text>\n<text text-anchor=\"start\" x=\"179\" y=\"-245.8\" font-family=\"Helvetica,sans-Serif\" font-size=\"14.00\" fill=\"#000000\">value = [4, 1]</text>\n<text text-anchor=\"start\" x=\"187\" y=\"-230.8\" font-family=\"Helvetica,sans-Serif\" font-size=\"14.00\" fill=\"#000000\">class = no</text>\n</g>\n<!-- 2&#45;&gt;3 -->\n<g id=\"edge3\" class=\"edge\">\n<title>2&#45;&gt;3</title>\n<path fill=\"none\" stroke=\"#000000\" d=\"M264.7169,-341.8796C259.7763,-333.2335 254.5184,-324.0322 249.4167,-315.1042\"/>\n<polygon fill=\"#000000\" stroke=\"#000000\" points=\"252.3849,-313.244 244.3846,-306.2981 246.3072,-316.717 252.3849,-313.244\"/>\n</g>\n<!-- 8 -->\n<g id=\"node9\" class=\"node\">\n<title>8</title>\n<path fill=\"#6ab6ec\" stroke=\"#000000\" d=\"M403.5,-306C403.5,-306 309.5,-306 309.5,-306 303.5,-306 297.5,-300 297.5,-294 297.5,-294 297.5,-235 297.5,-235 297.5,-229 303.5,-223 309.5,-223 309.5,-223 403.5,-223 403.5,-223 409.5,-223 415.5,-229 415.5,-235 415.5,-235 415.5,-294 415.5,-294 415.5,-300 409.5,-306 403.5,-306\"/>\n<text text-anchor=\"start\" x=\"322\" y=\"-290.8\" font-family=\"Helvetica,sans-Serif\" font-size=\"14.00\" fill=\"#000000\">Wind ≤ 0.5</text>\n<text text-anchor=\"start\" x=\"305.5\" y=\"-275.8\" font-family=\"Helvetica,sans-Serif\" font-size=\"14.00\" fill=\"#000000\">entropy = 0.722</text>\n<text text-anchor=\"start\" x=\"317\" y=\"-260.8\" font-family=\"Helvetica,sans-Serif\" font-size=\"14.00\" fill=\"#000000\">samples = 5</text>\n<text text-anchor=\"start\" x=\"315\" y=\"-245.8\" font-family=\"Helvetica,sans-Serif\" font-size=\"14.00\" fill=\"#000000\">value = [1, 4]</text>\n<text text-anchor=\"start\" x=\"320\" y=\"-230.8\" font-family=\"Helvetica,sans-Serif\" font-size=\"14.00\" fill=\"#000000\">class = yes</text>\n</g>\n<!-- 2&#45;&gt;8 -->\n<g id=\"edge8\" class=\"edge\">\n<title>2&#45;&gt;8</title>\n<path fill=\"none\" stroke=\"#000000\" d=\"M312.2831,-341.8796C317.2237,-333.2335 322.4816,-324.0322 327.5833,-315.1042\"/>\n<polygon fill=\"#000000\" stroke=\"#000000\" points=\"330.6928,-316.717 332.6154,-306.2981 324.6151,-313.244 330.6928,-316.717\"/>\n</g>\n<!-- 4 -->\n<g id=\"node5\" class=\"node\">\n<title>4</title>\n<path fill=\"#ffffff\" stroke=\"#000000\" d=\"M140,-187C140,-187 63,-187 63,-187 57,-187 51,-181 51,-175 51,-175 51,-116 51,-116 51,-110 57,-104 63,-104 63,-104 140,-104 140,-104 146,-104 152,-110 152,-116 152,-116 152,-175 152,-175 152,-181 146,-187 140,-187\"/>\n<text text-anchor=\"start\" x=\"67\" y=\"-171.8\" font-family=\"Helvetica,sans-Serif\" font-size=\"14.00\" fill=\"#000000\">Wind ≤ 0.5</text>\n<text text-anchor=\"start\" x=\"59\" y=\"-156.8\" font-family=\"Helvetica,sans-Serif\" font-size=\"14.00\" fill=\"#000000\">entropy = 1.0</text>\n<text text-anchor=\"start\" x=\"62\" y=\"-141.8\" font-family=\"Helvetica,sans-Serif\" font-size=\"14.00\" fill=\"#000000\">samples = 2</text>\n<text text-anchor=\"start\" x=\"60\" y=\"-126.8\" font-family=\"Helvetica,sans-Serif\" font-size=\"14.00\" fill=\"#000000\">value = [1, 1]</text>\n<text text-anchor=\"start\" x=\"68\" y=\"-111.8\" font-family=\"Helvetica,sans-Serif\" font-size=\"14.00\" fill=\"#000000\">class = no</text>\n</g>\n<!-- 3&#45;&gt;4 -->\n<g id=\"edge4\" class=\"edge\">\n<title>3&#45;&gt;4</title>\n<path fill=\"none\" stroke=\"#000000\" d=\"M178.8796,-222.8796C169.6931,-213.6931 159.8798,-203.8798 150.4336,-194.4336\"/>\n<polygon fill=\"#000000\" stroke=\"#000000\" points=\"152.8441,-191.8943 143.2981,-187.2981 147.8943,-196.8441 152.8441,-191.8943\"/>\n</g>\n<!-- 7 -->\n<g id=\"node8\" class=\"node\">\n<title>7</title>\n<path fill=\"#e58139\" stroke=\"#000000\" d=\"M259,-179.5C259,-179.5 182,-179.5 182,-179.5 176,-179.5 170,-173.5 170,-167.5 170,-167.5 170,-123.5 170,-123.5 170,-117.5 176,-111.5 182,-111.5 182,-111.5 259,-111.5 259,-111.5 265,-111.5 271,-117.5 271,-123.5 271,-123.5 271,-167.5 271,-167.5 271,-173.5 265,-179.5 259,-179.5\"/>\n<text text-anchor=\"start\" x=\"178\" y=\"-164.3\" font-family=\"Helvetica,sans-Serif\" font-size=\"14.00\" fill=\"#000000\">entropy = 0.0</text>\n<text text-anchor=\"start\" x=\"181\" y=\"-149.3\" font-family=\"Helvetica,sans-Serif\" font-size=\"14.00\" fill=\"#000000\">samples = 3</text>\n<text text-anchor=\"start\" x=\"179\" y=\"-134.3\" font-family=\"Helvetica,sans-Serif\" font-size=\"14.00\" fill=\"#000000\">value = [3, 0]</text>\n<text text-anchor=\"start\" x=\"187\" y=\"-119.3\" font-family=\"Helvetica,sans-Serif\" font-size=\"14.00\" fill=\"#000000\">class = no</text>\n</g>\n<!-- 3&#45;&gt;7 -->\n<g id=\"edge7\" class=\"edge\">\n<title>3&#45;&gt;7</title>\n<path fill=\"none\" stroke=\"#000000\" d=\"M220.5,-222.8796C220.5,-212.2134 220.5,-200.7021 220.5,-189.9015\"/>\n<polygon fill=\"#000000\" stroke=\"#000000\" points=\"224.0001,-189.8149 220.5,-179.8149 217.0001,-189.815 224.0001,-189.8149\"/>\n</g>\n<!-- 5 -->\n<g id=\"node6\" class=\"node\">\n<title>5</title>\n<path fill=\"#e58139\" stroke=\"#000000\" d=\"M89,-68C89,-68 12,-68 12,-68 6,-68 0,-62 0,-56 0,-56 0,-12 0,-12 0,-6 6,0 12,0 12,0 89,0 89,0 95,0 101,-6 101,-12 101,-12 101,-56 101,-56 101,-62 95,-68 89,-68\"/>\n<text text-anchor=\"start\" x=\"8\" y=\"-52.8\" font-family=\"Helvetica,sans-Serif\" font-size=\"14.00\" fill=\"#000000\">entropy = 0.0</text>\n<text text-anchor=\"start\" x=\"11\" y=\"-37.8\" font-family=\"Helvetica,sans-Serif\" font-size=\"14.00\" fill=\"#000000\">samples = 1</text>\n<text text-anchor=\"start\" x=\"9\" y=\"-22.8\" font-family=\"Helvetica,sans-Serif\" font-size=\"14.00\" fill=\"#000000\">value = [1, 0]</text>\n<text text-anchor=\"start\" x=\"17\" y=\"-7.8\" font-family=\"Helvetica,sans-Serif\" font-size=\"14.00\" fill=\"#000000\">class = no</text>\n</g>\n<!-- 4&#45;&gt;5 -->\n<g id=\"edge5\" class=\"edge\">\n<title>4&#45;&gt;5</title>\n<path fill=\"none\" stroke=\"#000000\" d=\"M82.5095,-103.9815C78.5579,-95.3423 74.3828,-86.2144 70.3995,-77.5059\"/>\n<polygon fill=\"#000000\" stroke=\"#000000\" points=\"73.5146,-75.9017 66.1722,-68.2637 67.1489,-78.8134 73.5146,-75.9017\"/>\n</g>\n<!-- 6 -->\n<g id=\"node7\" class=\"node\">\n<title>6</title>\n<path fill=\"#399de5\" stroke=\"#000000\" d=\"M208,-68C208,-68 131,-68 131,-68 125,-68 119,-62 119,-56 119,-56 119,-12 119,-12 119,-6 125,0 131,0 131,0 208,0 208,0 214,0 220,-6 220,-12 220,-12 220,-56 220,-56 220,-62 214,-68 208,-68\"/>\n<text text-anchor=\"start\" x=\"127\" y=\"-52.8\" font-family=\"Helvetica,sans-Serif\" font-size=\"14.00\" fill=\"#000000\">entropy = 0.0</text>\n<text text-anchor=\"start\" x=\"130\" y=\"-37.8\" font-family=\"Helvetica,sans-Serif\" font-size=\"14.00\" fill=\"#000000\">samples = 1</text>\n<text text-anchor=\"start\" x=\"128\" y=\"-22.8\" font-family=\"Helvetica,sans-Serif\" font-size=\"14.00\" fill=\"#000000\">value = [0, 1]</text>\n<text text-anchor=\"start\" x=\"133\" y=\"-7.8\" font-family=\"Helvetica,sans-Serif\" font-size=\"14.00\" fill=\"#000000\">class = yes</text>\n</g>\n<!-- 4&#45;&gt;6 -->\n<g id=\"edge6\" class=\"edge\">\n<title>4&#45;&gt;6</title>\n<path fill=\"none\" stroke=\"#000000\" d=\"M126.8207,-103.9815C132.2016,-95.1585 137.8932,-85.8258 143.3059,-76.9506\"/>\n<polygon fill=\"#000000\" stroke=\"#000000\" points=\"146.3851,-78.6236 148.6038,-68.2637 140.4088,-74.9789 146.3851,-78.6236\"/>\n</g>\n<!-- 9 -->\n<g id=\"node10\" class=\"node\">\n<title>9</title>\n<path fill=\"#ffffff\" stroke=\"#000000\" d=\"M411.5,-187C411.5,-187 301.5,-187 301.5,-187 295.5,-187 289.5,-181 289.5,-175 289.5,-175 289.5,-116 289.5,-116 289.5,-110 295.5,-104 301.5,-104 301.5,-104 411.5,-104 411.5,-104 417.5,-104 423.5,-110 423.5,-116 423.5,-116 423.5,-175 423.5,-175 423.5,-181 417.5,-187 411.5,-187\"/>\n<text text-anchor=\"start\" x=\"297.5\" y=\"-171.8\" font-family=\"Helvetica,sans-Serif\" font-size=\"14.00\" fill=\"#000000\">Temperature ≤ 1.0</text>\n<text text-anchor=\"start\" x=\"314\" y=\"-156.8\" font-family=\"Helvetica,sans-Serif\" font-size=\"14.00\" fill=\"#000000\">entropy = 1.0</text>\n<text text-anchor=\"start\" x=\"317\" y=\"-141.8\" font-family=\"Helvetica,sans-Serif\" font-size=\"14.00\" fill=\"#000000\">samples = 2</text>\n<text text-anchor=\"start\" x=\"315\" y=\"-126.8\" font-family=\"Helvetica,sans-Serif\" font-size=\"14.00\" fill=\"#000000\">value = [1, 1]</text>\n<text text-anchor=\"start\" x=\"323\" y=\"-111.8\" font-family=\"Helvetica,sans-Serif\" font-size=\"14.00\" fill=\"#000000\">class = no</text>\n</g>\n<!-- 8&#45;&gt;9 -->\n<g id=\"edge9\" class=\"edge\">\n<title>8&#45;&gt;9</title>\n<path fill=\"none\" stroke=\"#000000\" d=\"M356.5,-222.8796C356.5,-214.6838 356.5,-205.9891 356.5,-197.5013\"/>\n<polygon fill=\"#000000\" stroke=\"#000000\" points=\"360.0001,-197.298 356.5,-187.2981 353.0001,-197.2981 360.0001,-197.298\"/>\n</g>\n<!-- 12 -->\n<g id=\"node13\" class=\"node\">\n<title>12</title>\n<path fill=\"#399de5\" stroke=\"#000000\" d=\"M531,-179.5C531,-179.5 454,-179.5 454,-179.5 448,-179.5 442,-173.5 442,-167.5 442,-167.5 442,-123.5 442,-123.5 442,-117.5 448,-111.5 454,-111.5 454,-111.5 531,-111.5 531,-111.5 537,-111.5 543,-117.5 543,-123.5 543,-123.5 543,-167.5 543,-167.5 543,-173.5 537,-179.5 531,-179.5\"/>\n<text text-anchor=\"start\" x=\"450\" y=\"-164.3\" font-family=\"Helvetica,sans-Serif\" font-size=\"14.00\" fill=\"#000000\">entropy = 0.0</text>\n<text text-anchor=\"start\" x=\"453\" y=\"-149.3\" font-family=\"Helvetica,sans-Serif\" font-size=\"14.00\" fill=\"#000000\">samples = 3</text>\n<text text-anchor=\"start\" x=\"451\" y=\"-134.3\" font-family=\"Helvetica,sans-Serif\" font-size=\"14.00\" fill=\"#000000\">value = [0, 3]</text>\n<text text-anchor=\"start\" x=\"456\" y=\"-119.3\" font-family=\"Helvetica,sans-Serif\" font-size=\"14.00\" fill=\"#000000\">class = yes</text>\n</g>\n<!-- 8&#45;&gt;12 -->\n<g id=\"edge12\" class=\"edge\">\n<title>8&#45;&gt;12</title>\n<path fill=\"none\" stroke=\"#000000\" d=\"M404.0662,-222.8796C417.5128,-211.1138 432.1347,-198.3197 445.5451,-186.5855\"/>\n<polygon fill=\"#000000\" stroke=\"#000000\" points=\"448.0619,-189.034 453.2829,-179.8149 443.4524,-183.766 448.0619,-189.034\"/>\n</g>\n<!-- 10 -->\n<g id=\"node11\" class=\"node\">\n<title>10</title>\n<path fill=\"#e58139\" stroke=\"#000000\" d=\"M361,-68C361,-68 284,-68 284,-68 278,-68 272,-62 272,-56 272,-56 272,-12 272,-12 272,-6 278,0 284,0 284,0 361,0 361,0 367,0 373,-6 373,-12 373,-12 373,-56 373,-56 373,-62 367,-68 361,-68\"/>\n<text text-anchor=\"start\" x=\"280\" y=\"-52.8\" font-family=\"Helvetica,sans-Serif\" font-size=\"14.00\" fill=\"#000000\">entropy = 0.0</text>\n<text text-anchor=\"start\" x=\"283\" y=\"-37.8\" font-family=\"Helvetica,sans-Serif\" font-size=\"14.00\" fill=\"#000000\">samples = 1</text>\n<text text-anchor=\"start\" x=\"281\" y=\"-22.8\" font-family=\"Helvetica,sans-Serif\" font-size=\"14.00\" fill=\"#000000\">value = [1, 0]</text>\n<text text-anchor=\"start\" x=\"289\" y=\"-7.8\" font-family=\"Helvetica,sans-Serif\" font-size=\"14.00\" fill=\"#000000\">class = no</text>\n</g>\n<!-- 9&#45;&gt;10 -->\n<g id=\"edge10\" class=\"edge\">\n<title>9&#45;&gt;10</title>\n<path fill=\"none\" stroke=\"#000000\" d=\"M343.8397,-103.9815C341.2613,-95.5261 338.5403,-86.6026 335.936,-78.0623\"/>\n<polygon fill=\"#000000\" stroke=\"#000000\" points=\"339.2127,-76.808 332.9481,-68.2637 332.5171,-78.8497 339.2127,-76.808\"/>\n</g>\n<!-- 11 -->\n<g id=\"node12\" class=\"node\">\n<title>11</title>\n<path fill=\"#399de5\" stroke=\"#000000\" d=\"M480,-68C480,-68 403,-68 403,-68 397,-68 391,-62 391,-56 391,-56 391,-12 391,-12 391,-6 397,0 403,0 403,0 480,0 480,0 486,0 492,-6 492,-12 492,-12 492,-56 492,-56 492,-62 486,-68 480,-68\"/>\n<text text-anchor=\"start\" x=\"399\" y=\"-52.8\" font-family=\"Helvetica,sans-Serif\" font-size=\"14.00\" fill=\"#000000\">entropy = 0.0</text>\n<text text-anchor=\"start\" x=\"402\" y=\"-37.8\" font-family=\"Helvetica,sans-Serif\" font-size=\"14.00\" fill=\"#000000\">samples = 1</text>\n<text text-anchor=\"start\" x=\"400\" y=\"-22.8\" font-family=\"Helvetica,sans-Serif\" font-size=\"14.00\" fill=\"#000000\">value = [0, 1]</text>\n<text text-anchor=\"start\" x=\"405\" y=\"-7.8\" font-family=\"Helvetica,sans-Serif\" font-size=\"14.00\" fill=\"#000000\">class = yes</text>\n</g>\n<!-- 9&#45;&gt;11 -->\n<g id=\"edge11\" class=\"edge\">\n<title>9&#45;&gt;11</title>\n<path fill=\"none\" stroke=\"#000000\" d=\"M388.1509,-103.9815C395.0171,-94.9747 402.2882,-85.4367 409.1798,-76.3965\"/>\n<polygon fill=\"#000000\" stroke=\"#000000\" points=\"412.1005,-78.3383 415.3797,-68.2637 406.5336,-74.0945 412.1005,-78.3383\"/>\n</g>\n</g>\n</svg>\n"
          },
          "metadata": {
            "tags": []
          },
          "execution_count": 28
        }
      ]
    }
  ]
}